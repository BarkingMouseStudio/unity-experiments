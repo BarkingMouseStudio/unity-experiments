{
 "cells": [
  {
   "cell_type": "code",
   "execution_count": 5,
   "metadata": {
    "collapsed": false
   },
   "outputs": [],
   "source": [
    "%matplotlib inline\n",
    "\n",
    "from __future__ import division\n",
    "\n",
    "import matplotlib.pyplot as plt\n",
    "import seaborn as sns\n",
    "import pandas as pd\n",
    "import numpy as np\n",
    "import math"
   ]
  },
  {
   "cell_type": "code",
   "execution_count": 248,
   "metadata": {
    "collapsed": false
   },
   "outputs": [],
   "source": [
    "F_max = 30.0\n",
    "N = 100\n",
    "sigma = 6.0\n",
    "\n",
    "def f(v):\n",
    "    return round(v * N)\n",
    "\n",
    "def f_inv(x):\n",
    "    return x / N\n",
    "\n",
    "def fill(population, v):\n",
    "    for i in xrange(-N, N * 2):\n",
    "        d = i - f(v)\n",
    "        if i < 0:\n",
    "            x = F_max * math.exp(-1 * ((d**2) / (2.0 * (sigma**2))))\n",
    "            population[N + i] = max(x, population[N + i])\n",
    "        elif i >= N:\n",
    "            x = F_max * math.exp(-1 * ((d**2) / (2.0 * (sigma**2))))\n",
    "            population[i - N] = max(x, population[i - N])\n",
    "        else:\n",
    "            x = F_max * math.exp(-1 * ((d**2) / (2.0 * (sigma**2))))\n",
    "            population[i] = max(x, population[i])\n",
    "\n",
    "def vote(population):\n",
    "    num = 0.0;\n",
    "    for i in range(0, N):\n",
    "        num += f_inv(i) * population[i]\n",
    "\n",
    "    den = 0.0\n",
    "    for i in range(0, N):\n",
    "        den += population[i]\n",
    "\n",
    "    return num / den"
   ]
  },
  {
   "cell_type": "code",
   "execution_count": 249,
   "metadata": {
    "collapsed": false,
    "scrolled": true
   },
   "outputs": [],
   "source": [
    "population = np.zeros(N)"
   ]
  },
  {
   "cell_type": "code",
   "execution_count": 253,
   "metadata": {
    "collapsed": false,
    "scrolled": false
   },
   "outputs": [],
   "source": [
    "fill(population, 1.0)"
   ]
  },
  {
   "cell_type": "code",
   "execution_count": 254,
   "metadata": {
    "collapsed": false
   },
   "outputs": [
    {
     "name": "stdout",
     "output_type": "stream",
     "text": [
      "0.615520651619\n"
     ]
    }
   ],
   "source": [
    "print vote(population)"
   ]
  },
  {
   "cell_type": "code",
   "execution_count": 255,
   "metadata": {
    "collapsed": false,
    "scrolled": false
   },
   "outputs": [
    {
     "data": {
      "text/plain": [
       "<matplotlib.axes._subplots.AxesSubplot at 0x10b5778d0>"
      ]
     },
     "execution_count": 255,
     "metadata": {},
     "output_type": "execute_result"
    },
    {
     "data": {
      "image/png": "[encoded data removed]",
      "text/plain": [
       "<matplotlib.figure.Figure at 0x10bc96c90>"
      ]
     },
     "metadata": {},
     "output_type": "display_data"
    }
   ],
   "source": [
    "df = pd.DataFrame(population)\n",
    "df.plot(kind=\"line\", figsize=(12, 8), style=\".\")"
   ]
  },
  {
   "cell_type": "code",
   "execution_count": null,
   "metadata": {
    "collapsed": true
   },
   "outputs": [],
   "source": []
  }
 ],
 "metadata": {
  "kernelspec": {
   "display_name": "Python 2",
   "language": "python",
   "name": "python2"
  },
  "language_info": {
   "codemirror_mode": {
    "name": "ipython",
    "version": 2
   },
   "file_extension": ".py",
   "mimetype": "text/x-python",
   "name": "python",
   "nbconvert_exporter": "python",
   "pygments_lexer": "ipython2",
   "version": "2.7.6"
  }
 },
 "nbformat": 4,
 "nbformat_minor": 0
}
