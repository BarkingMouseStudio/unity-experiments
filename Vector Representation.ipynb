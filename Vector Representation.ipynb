{
 "cells": [
  {
   "cell_type": "code",
   "execution_count": 9,
   "metadata": {
    "collapsed": true
   },
   "outputs": [],
   "source": [
    "import numpy as np\n",
    "import theano\n",
    "import theano.tensor as T"
   ]
  },
  {
   "cell_type": "markdown",
   "metadata": {},
   "source": [
    "# Encoding"
   ]
  },
  {
   "cell_type": "code",
   "execution_count": 14,
   "metadata": {
    "collapsed": false
   },
   "outputs": [],
   "source": [
    "x = T.vector(\"x\") # encoded value\n",
    "\n",
    "alpha = T.vector(\"alpha\") # scales magnitude of x to match tuning curves\n",
    "J_threshold = T.vector(\"J_threshold\") # current threshold\n",
    "J_bias = T.vector(\"J_bias\") # background current\n",
    "\n",
    "tau_ref = T.vector(\"tau_ref\") # refractory period\n",
    "tau_RC = T.vector(\"tau_RC\") # RC time constant"
   ]
  },
  {
   "cell_type": "code",
   "execution_count": 26,
   "metadata": {
    "collapsed": false
   },
   "outputs": [],
   "source": [
    "J = theano.function([x, alpha, J_bias], alpha * x + J_bias)"
   ]
  },
  {
   "cell_type": "code",
   "execution_count": 29,
   "metadata": {
    "collapsed": false
   },
   "outputs": [],
   "source": [
    "N = 100\n",
    "x_ = np.arange(-1, 1, 2. / N)\n",
    "alpha_ = np.arange(0, 1, 0.01)\n",
    "J_bias_ = np.arange(0, 1, 0.01)\n",
    "J_x = J(x_, alpha_, J_bias_)"
   ]
  },
  {
   "cell_type": "code",
   "execution_count": 30,
   "metadata": {
    "collapsed": true
   },
   "outputs": [],
   "source": [
    "G_expr = T.switch(T.gt(alpha * x + J_bias, J_threshold), \\\n",
    "                  1 / (tau_ref - tau_RC * T.log(1 - J_threshold / J_x)), \\\n",
    "                  0)\n",
    "G = theano.function([x, alpha, J_bias, J_threshold, tau_ref, tau_RC], \\\n",
    "                    G_expr, name=\"G\")"
   ]
  },
  {
   "cell_type": "code",
   "execution_count": 32,
   "metadata": {
    "collapsed": false
   },
   "outputs": [],
   "source": [
    "J_threshold_ = np.arange(0, 1, 0.01)\n",
    "tau_ref_ = np.arange(0, 1, 0.01)\n",
    "tau_RC_ = np.arange(0, 1, 0.01)\n",
    "G_x = G(x_, alpha_, J_bias_, J_threshold_, tau_ref_, tau_RC_)"
   ]
  },
  {
   "cell_type": "code",
   "execution_count": 37,
   "metadata": {
    "collapsed": false
   },
   "outputs": [],
   "source": [
    "a_x = G_x # firing rate"
   ]
  },
  {
   "cell_type": "markdown",
   "metadata": {},
   "source": [
    "# Decoding"
   ]
  },
  {
   "cell_type": "code",
   "execution_count": 46,
   "metadata": {
    "collapsed": false
   },
   "outputs": [],
   "source": [
    "phi = T.vector(\"phi\")"
   ]
  }
 ],
 "metadata": {
  "kernelspec": {
   "display_name": "Python 3",
   "language": "python",
   "name": "python3"
  },
  "language_info": {
   "codemirror_mode": {
    "name": "ipython",
    "version": 3
   },
   "file_extension": ".py",
   "mimetype": "text/x-python",
   "name": "python",
   "nbconvert_exporter": "python",
   "pygments_lexer": "ipython3",
   "version": "3.4.3"
  }
 },
 "nbformat": 4,
 "nbformat_minor": 0
}
